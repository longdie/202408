{
 "cells": [
  {
   "cell_type": "code",
   "execution_count": 1,
   "metadata": {},
   "outputs": [
    {
     "name": "stdout",
     "output_type": "stream",
     "text": [
      "tensor([[[[0., 0., 0., 0.],\n",
      "          [1., 1., 1., 1.],\n",
      "          [2., 2., 2., 2.],\n",
      "          [3., 3., 3., 3.]],\n",
      "\n",
      "         [[4., 4., 4., 4.],\n",
      "          [5., 5., 5., 5.],\n",
      "          [6., 6., 6., 6.],\n",
      "          [7., 7., 7., 7.]]]])\n",
      "tensor([[0., 0., 0., 0.],\n",
      "        [1., 1., 1., 1.],\n",
      "        [2., 2., 2., 2.],\n",
      "        [3., 3., 3., 3.]])\n",
      "tensor([[4., 4., 4., 4.],\n",
      "        [5., 5., 5., 5.],\n",
      "        [6., 6., 6., 6.],\n",
      "        [7., 7., 7., 7.]])\n"
     ]
    }
   ],
   "source": [
    "# 实例 8: 池化函数的使用\n",
    "import torch\n",
    "\n",
    "img=torch.tensor([ [ [0.,0.,0.,0.],[1.,1.,1.,1.],[2.,2.,2.,2.],[3.,3.,3.,3.] ],\n",
    "                   [ [4.,4.,4.,4.],[5.,5.,5.,5.],[6.,6.,6.,6.],[7.,7.,7.,7.] ]\n",
    "                 ]).reshape([1,2,4,4])\n",
    "print(img)\n",
    "print(img[0][0])\n",
    "print(img[0][1])"
   ]
  },
  {
   "cell_type": "code",
   "execution_count": 2,
   "metadata": {},
   "outputs": [
    {
     "name": "stdout",
     "output_type": "stream",
     "text": [
      "pooling:\n",
      " tensor([[[[1., 1.],\n",
      "          [3., 3.]],\n",
      "\n",
      "         [[5., 5.],\n",
      "          [7., 7.]]]])\n",
      "pooling1:\n",
      " tensor([[[[1., 1., 1.],\n",
      "          [2., 2., 2.],\n",
      "          [3., 3., 3.]],\n",
      "\n",
      "         [[5., 5., 5.],\n",
      "          [6., 6., 6.],\n",
      "          [7., 7., 7.]]]])\n",
      "pooling2:\n",
      " tensor([[[[0.5625, 0.7500, 0.5625],\n",
      "          [1.1250, 1.5000, 1.1250],\n",
      "          [1.1250, 1.5000, 1.1250]],\n",
      "\n",
      "         [[2.8125, 3.7500, 2.8125],\n",
      "          [4.1250, 5.5000, 4.1250],\n",
      "          [3.3750, 4.5000, 3.3750]]]])\n",
      "pooling3:\n",
      " tensor([[[[1.5000]],\n",
      "\n",
      "         [[5.5000]]]])\n",
      "第1次平均值结果:\n",
      " tensor([[[0., 1., 2., 3.],\n",
      "         [4., 5., 6., 7.]]])\n",
      "第2次平均值结果:\n",
      " tensor([[1.5000, 5.5000]])\n"
     ]
    }
   ],
   "source": [
    "#torch.nn.functional.avg_pool2d(input, kernel_size, stride=None, padding=0, ceil_mode=False, count_include_pad=True)\n",
    "pooling=torch.nn.functional.max_pool2d(img,kernel_size =2)\n",
    "print(\"pooling:\\n\",pooling)\n",
    "pooling1=torch.nn.functional.max_pool2d(img,kernel_size =2,stride=1)\n",
    "print(\"pooling1:\\n\",pooling1)\n",
    "pooling2=torch.nn.functional.avg_pool2d(img,kernel_size =4,stride=1,padding=1)\n",
    "print(\"pooling2:\\n\",pooling2)\n",
    "pooling3=torch.nn.functional.avg_pool2d(img,kernel_size =4)\n",
    "print(\"pooling3:\\n\",pooling3)\n",
    "\n",
    "m1 = img.mean(3)\n",
    "print(\"第1次平均值结果:\\n\",m1)\n",
    "print(\"第2次平均值结果:\\n\",m1.mean(2))"
   ]
  }
 ],
 "metadata": {
  "kernelspec": {
   "display_name": "pytorch",
   "language": "python",
   "name": "python3"
  },
  "language_info": {
   "codemirror_mode": {
    "name": "ipython",
    "version": 3
   },
   "file_extension": ".py",
   "mimetype": "text/x-python",
   "name": "python",
   "nbconvert_exporter": "python",
   "pygments_lexer": "ipython3",
   "version": "3.12.4"
  }
 },
 "nbformat": 4,
 "nbformat_minor": 2
}
