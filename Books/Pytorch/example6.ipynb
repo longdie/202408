{
 "cells": [
  {
   "cell_type": "code",
   "execution_count": 1,
   "metadata": {},
   "outputs": [],
   "source": [
    "import torch\n",
    "\n",
    "# [batch, in_channels, in_height, in_width] [训练时一个batch的图片数量, 图像通道数, 图片高度, 图片宽度]\n",
    "input1 = torch.ones([1, 1, 5, 5])\n",
    "input2 = torch.ones([1, 2, 5, 5])\n",
    "input3 = torch.ones([1, 1, 4, 4])"
   ]
  },
  {
   "cell_type": "code",
   "execution_count": 2,
   "metadata": {},
   "outputs": [
    {
     "name": "stdout",
     "output_type": "stream",
     "text": [
      "tensor([[[[0., 0., 0., 0., 0., 0., 0.],\n",
      "          [0., 1., 1., 1., 1., 1., 0.],\n",
      "          [0., 1., 1., 1., 1., 1., 0.],\n",
      "          [0., 1., 1., 1., 1., 1., 0.],\n",
      "          [0., 1., 1., 1., 1., 1., 0.],\n",
      "          [0., 1., 1., 1., 1., 1., 0.],\n",
      "          [0., 0., 0., 0., 0., 0., 0.]]]])\n",
      "tensor([[[[0., 0., 0., 0., 0., 0., 0., 0., 0.],\n",
      "          [0., 0., 1., 1., 1., 1., 1., 0., 0.],\n",
      "          [0., 0., 1., 1., 1., 1., 1., 0., 0.],\n",
      "          [0., 0., 1., 1., 1., 1., 1., 0., 0.],\n",
      "          [0., 0., 1., 1., 1., 1., 1., 0., 0.],\n",
      "          [0., 0., 1., 1., 1., 1., 1., 0., 0.],\n",
      "          [0., 0., 0., 0., 0., 0., 0., 0., 0.]]]])\n"
     ]
    }
   ],
   "source": [
    "#验证padding补0的规则 ——上下左右都补0\n",
    "padding1 = torch.nn.functional.conv2d(input1, torch.ones([1,1,1,1]), stride=1, padding=1)\n",
    "print(padding1)\n",
    "\n",
    "\n",
    "padding2 = torch.nn.functional.conv2d(input1, torch.ones([1,1,1,1]), stride=1, padding=(1,2))\n",
    "print(padding2)"
   ]
  },
  {
   "cell_type": "code",
   "execution_count": 6,
   "metadata": {},
   "outputs": [],
   "source": [
    "# [ out_channels, in_channels，filter_height, filter_width] [卷积核个数，图像通道数，卷积核的高度，卷积核的宽度]\n",
    "filter1 =  torch.tensor([-1.0,0,0,-1]).reshape([1, 1, 2, 2])\n",
    "filter2 =  torch.tensor([-1.0,0,0,-1,-1.0,0,0,-1]).reshape([2,1,2, 2])\n",
    "filter3 =  torch.tensor([-1.0,0,0,-1,-1.0,0,0,-1,-1.0,0,0,-1]).reshape([3,1,2, 2])\n",
    "filter4 =  torch.tensor([-1.0,0,0,-1,-1.0,0,0,-1,\n",
    "                                   -1.0,0,0,-1,\n",
    "                                   -1.0,0,0,-1]).reshape([2, 2, 2, 2])\n",
    "filter5 =  torch.tensor([-1.0,0,0,-1,-1.0,0,0,-1]).reshape([1,2, 2, 2])"
   ]
  },
  {
   "cell_type": "code",
   "execution_count": 8,
   "metadata": {},
   "outputs": [
    {
     "name": "stdout",
     "output_type": "stream",
     "text": [
      "op1:\n",
      " tensor([[[[-1., -1., -1.],\n",
      "          [-1., -2., -2.],\n",
      "          [-1., -2., -2.]]]]) tensor([[[[-1.,  0.],\n",
      "          [ 0., -1.]]]])\n",
      "------------------\n",
      "op2:\n",
      " tensor([[[[-1., -1., -1.],\n",
      "          [-1., -2., -2.],\n",
      "          [-1., -2., -2.]],\n",
      "\n",
      "         [[-1., -1., -1.],\n",
      "          [-1., -2., -2.],\n",
      "          [-1., -2., -2.]]]]) tensor([[[[-1.,  0.],\n",
      "          [ 0., -1.]]],\n",
      "\n",
      "\n",
      "        [[[-1.,  0.],\n",
      "          [ 0., -1.]]]])\n",
      "op3:\n",
      " tensor([[[[-1., -1., -1.],\n",
      "          [-1., -2., -2.],\n",
      "          [-1., -2., -2.]],\n",
      "\n",
      "         [[-1., -1., -1.],\n",
      "          [-1., -2., -2.],\n",
      "          [-1., -2., -2.]],\n",
      "\n",
      "         [[-1., -1., -1.],\n",
      "          [-1., -2., -2.],\n",
      "          [-1., -2., -2.]]]]) tensor([[[[-1.,  0.],\n",
      "          [ 0., -1.]]],\n",
      "\n",
      "\n",
      "        [[[-1.,  0.],\n",
      "          [ 0., -1.]]],\n",
      "\n",
      "\n",
      "        [[[-1.,  0.],\n",
      "          [ 0., -1.]]]])\n",
      "------------------\n",
      "op4:\n",
      " tensor([[[[-2., -2., -2.],\n",
      "          [-2., -4., -4.],\n",
      "          [-2., -4., -4.]],\n",
      "\n",
      "         [[-2., -2., -2.],\n",
      "          [-2., -4., -4.],\n",
      "          [-2., -4., -4.]]]]) tensor([[[[-1.,  0.],\n",
      "          [ 0., -1.]],\n",
      "\n",
      "         [[-1.,  0.],\n",
      "          [ 0., -1.]]],\n",
      "\n",
      "\n",
      "        [[[-1.,  0.],\n",
      "          [ 0., -1.]],\n",
      "\n",
      "         [[-1.,  0.],\n",
      "          [ 0., -1.]]]])\n",
      "op5:\n",
      " tensor([[[[-2., -2., -2.],\n",
      "          [-2., -4., -4.],\n",
      "          [-2., -4., -4.]]]]) tensor([[[[-1.,  0.],\n",
      "          [ 0., -1.]],\n",
      "\n",
      "         [[-1.,  0.],\n",
      "          [ 0., -1.]]]])\n",
      "------------------\n",
      "op1:\n",
      " tensor([[[[-1., -1., -1.],\n",
      "          [-1., -2., -2.],\n",
      "          [-1., -2., -2.]]]]) tensor([[[[-1.,  0.],\n",
      "          [ 0., -1.]]]])\n",
      "op6:\n",
      " tensor([[[[-2., -2.],\n",
      "          [-2., -2.]]]]) tensor([[[[-1.,  0.],\n",
      "          [ 0., -1.]]]])\n"
     ]
    }
   ],
   "source": [
    "op1 = torch.nn.functional.conv2d(input1, filter1, stride=2, padding=1) #1个通道输入，生成1个feature map\n",
    "op2 = torch.nn.functional.conv2d(input1, filter2, stride=2, padding=1) #1个通道输入，生成2个feature map\n",
    "op3 = torch.nn.functional.conv2d(input1, filter3, stride=2, padding=1) #1个通道输入，生成3个feature map\n",
    "\n",
    "op4 = torch.nn.functional.conv2d(input2, filter4, stride=2, padding=1) # 2个通道输入，生成2个feature\n",
    "op5 = torch.nn.functional.conv2d(input2, filter5, stride=2, padding=1) # 2个通道输入，生成一个feature map\n",
    "\n",
    "op6 = torch.nn.functional.conv2d(input1, filter1, stride=2, padding=0) # 5*5 对于pading不同而不同\n",
    "\n",
    "\n",
    "print(\"op1:\\n\",op1,filter1)#1-1  后面补0\n",
    "print(\"------------------\")\n",
    "\n",
    "print(\"op2:\\n\",op2,filter2) #1-2多卷积核 按列取\n",
    "print(\"op3:\\n\",op3,filter3) #1-3\n",
    "print(\"------------------\")\n",
    "\n",
    "print(\"op4:\\n\",op4,filter4)#2-2    通道叠加\n",
    "print(\"op5:\\n\",op5,filter5)#2-1\n",
    "print(\"------------------\")\n",
    "\n",
    "print(\"op1:\\n\",op1,filter1)#1-1\n",
    "print(\"op6:\\n\",op6,filter1)"
   ]
  }
 ],
 "metadata": {
  "kernelspec": {
   "display_name": "pytorch",
   "language": "python",
   "name": "python3"
  },
  "language_info": {
   "codemirror_mode": {
    "name": "ipython",
    "version": 3
   },
   "file_extension": ".py",
   "mimetype": "text/x-python",
   "name": "python",
   "nbconvert_exporter": "python",
   "pygments_lexer": "ipython3",
   "version": "3.12.4"
  }
 },
 "nbformat": 4,
 "nbformat_minor": 2
}
