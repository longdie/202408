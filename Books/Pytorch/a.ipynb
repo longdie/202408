{
 "cells": [
  {
   "cell_type": "markdown",
   "metadata": {},
   "source": [
    "# Pytorch 深度学习 和 图神经网络"
   ]
  },
  {
   "cell_type": "code",
   "execution_count": 1,
   "metadata": {},
   "outputs": [
    {
     "name": "stdout",
     "output_type": "stream",
     "text": [
      "True\n"
     ]
    }
   ],
   "source": [
    "import torch\n",
    "print(torch.cuda.is_available())"
   ]
  },
  {
   "cell_type": "markdown",
   "metadata": {},
   "source": [
    "## 第四章 快速上手 Pytorch"
   ]
  },
  {
   "cell_type": "code",
   "execution_count": 2,
   "metadata": {},
   "outputs": [
    {
     "name": "stdout",
     "output_type": "stream",
     "text": [
      "tensor(5)\n",
      "tensor([4], dtype=torch.int32)\n"
     ]
    }
   ],
   "source": [
    "# torch.tensor()函数，不常用\n",
    "import torch \n",
    "import numpy as np\n",
    "a = torch.tensor(5)\n",
    "print(a)\n",
    "\n",
    "a = torch.tensor(np.asarray([4]))\n",
    "print(a)"
   ]
  },
  {
   "cell_type": "code",
   "execution_count": 8,
   "metadata": {},
   "outputs": [
    {
     "name": "stdout",
     "output_type": "stream",
     "text": [
      "tensor([0.0000e+00, 4.1992e-05])\n",
      "tensor([[[-4.7392e-38,  1.2556e-42,  0.0000e+00],\n",
      "         [ 0.0000e+00,  0.0000e+00,  0.0000e+00]]])\n",
      "tensor([1., 2.])\n",
      "6\n"
     ]
    }
   ],
   "source": [
    "# torch.Tensor()函数\n",
    "import torch\n",
    "import numpy as np\n",
    "\n",
    "a = torch.Tensor(2)\n",
    "print(a)\n",
    "\n",
    "b = torch.Tensor(1, 2, 3) # 默认初始化为 0 \n",
    "print(b)\n",
    "\n",
    "c = torch.Tensor([1, 2])\n",
    "print(c)\n",
    "\n",
    "print(torch.numel(b)) # 张量中元素的个数"
   ]
  },
  {
   "cell_type": "code",
   "execution_count": 11,
   "metadata": {},
   "outputs": [
    {
     "name": "stdout",
     "output_type": "stream",
     "text": [
      "tensor([[1., 1.],\n",
      "        [1., 1.]])\n",
      "tensor([[0., 0., 0.],\n",
      "        [0., 0., 0.]])\n",
      "tensor([[ 0.6460, -0.9464, -0.1764],\n",
      "        [-1.5066,  0.8905, -0.5115],\n",
      "        [ 0.5933, -0.7074,  0.5170]])\n"
     ]
    }
   ],
   "source": [
    "a = torch.ones(2, 2)\n",
    "b = torch.zeros(2, 3)\n",
    "c = torch.randn(3, 3)\n",
    "print(a)\n",
    "print(b)\n",
    "print(c)"
   ]
  },
  {
   "cell_type": "code",
   "execution_count": 14,
   "metadata": {},
   "outputs": [
    {
     "name": "stdout",
     "output_type": "stream",
     "text": [
      "tensor([4.], device='cuda:0')\n",
      "tensor([2], device='cuda:0')\n"
     ]
    }
   ],
   "source": [
    "# CPU 与 GPU\n",
    "import torch\n",
    "\n",
    "a = torch.Tensor([4]) \n",
    "b = a.cuda()\n",
    "print(b)\n",
    "\n",
    "a = torch.tensor([2], device = \"cuda\") # 注意必须是小写 tensor\n",
    "print(a)"
   ]
  },
  {
   "cell_type": "code",
   "execution_count": 19,
   "metadata": {},
   "outputs": [
    {
     "name": "stdout",
     "output_type": "stream",
     "text": [
      "tensor([[ 0.3923, -0.2236, -0.3195],\n",
      "        [-1.2050,  1.0445, -0.6332]])\n"
     ]
    }
   ],
   "source": [
    "# 随机值\n",
    "import torch\n",
    "\n",
    "torch.initial_seed()\n",
    "torch.manual_seed(2) # 设置种子\n",
    "torch.initial_seed()\n",
    "\n",
    "print(torch.randn(2, 3))"
   ]
  },
  {
   "cell_type": "code",
   "execution_count": 22,
   "metadata": {},
   "outputs": [
    {
     "name": "stdout",
     "output_type": "stream",
     "text": [
      "tensor([[1., 2., 3., 4.]])\n",
      "tensor([[1.],\n",
      "        [2.],\n",
      "        [3.],\n",
      "        [4.]])\n"
     ]
    }
   ],
   "source": [
    "# torch.reshape()\n",
    "import torch\n",
    "\n",
    "a = torch.Tensor([[1, 2], [3, 4]])\n",
    "print(torch.reshape(a, (1, -1)))\n",
    "print(torch.reshape(a, (4, 1)))"
   ]
  },
  {
   "cell_type": "code",
   "execution_count": 25,
   "metadata": {},
   "outputs": [
    {
     "name": "stdout",
     "output_type": "stream",
     "text": [
      "tensor([[0.0000e+00, 2.2500e+00, 1.4013e-45]])\n",
      "tensor([[0.0000e+00],\n",
      "        [2.2500e+00],\n",
      "        [1.4013e-45]])\n",
      "tensor([[0.0000e+00, 2.2500e+00, 1.4013e-45]])\n"
     ]
    }
   ],
   "source": [
    "# 张量的矩阵转置\n",
    "import torch\n",
    "\n",
    "b = torch.Tensor(1, 3)\n",
    "print(b)\n",
    "print(torch.t(b))\n",
    "torch.transpose(b, dim0 = 1, dim1 = 0)\n",
    "print(b)"
   ]
  },
  {
   "cell_type": "code",
   "execution_count": 28,
   "metadata": {},
   "outputs": [
    {
     "name": "stdout",
     "output_type": "stream",
     "text": [
      "tensor([[1., 2.],\n",
      "        [3., 4.],\n",
      "        [5., 6.],\n",
      "        [7., 8.]])\n",
      "tensor([[1., 2., 5., 6.],\n",
      "        [3., 4., 7., 8.]])\n"
     ]
    }
   ],
   "source": [
    "import torch\n",
    "\n",
    "a = torch.Tensor([[1, 2], [3, 4]])\n",
    "b = torch.Tensor([[5, 6], [7, 8]])\n",
    "print(torch.cat([a, b], dim=0))\n",
    "print(torch.cat([a, b], dim=1))"
   ]
  },
  {
   "cell_type": "code",
   "execution_count": 30,
   "metadata": {},
   "outputs": [
    {
     "name": "stdout",
     "output_type": "stream",
     "text": [
      "tensor([4.])\n",
      "tensor([4.], requires_grad=True)\n"
     ]
    }
   ],
   "source": [
    "# Variable 类型 与 自动微分模块\n",
    "import torch\n",
    "from torch.autograd import Variable\n",
    "\n",
    "a = torch.Tensor([4])\n",
    "print(Variable(a))\n",
    "\n",
    "print(Variable(a, requires_grad=True))\n",
    "\n"
   ]
  },
  {
   "cell_type": "code",
   "execution_count": 38,
   "metadata": {},
   "outputs": [
    {
     "name": "stdout",
     "output_type": "stream",
     "text": [
      "False\n",
      "True\n"
     ]
    }
   ],
   "source": [
    "# torch.no_grad() 介绍\n",
    "import torch\n",
    "from torch.autograd import Variable\n",
    "\n",
    "x = torch.ones(2, 2, requires_grad=True)\n",
    "with torch.no_grad():\n",
    "    y = x * 2\n",
    "print(y.requires_grad)\n",
    "\n",
    "with torch.no_grad():\n",
    "    with torch.enable_grad():\n",
    "        y = x * 2\n",
    "\n",
    "print(y.requires_grad)"
   ]
  },
  {
   "cell_type": "code",
   "execution_count": 43,
   "metadata": {},
   "outputs": [
    {
     "name": "stdout",
     "output_type": "stream",
     "text": [
      "True\n",
      "False\n",
      "False\n",
      "True\n"
     ]
    }
   ],
   "source": [
    "# set_grad_enabled()\n",
    "import torch\n",
    "from torch.autograd import Variable\n",
    "\n",
    "x = torch.ones(2, 2, requires_grad=True)\n",
    "torch.set_grad_enabled(False)\n",
    "y = x * 2\n",
    "print(x.requires_grad)\n",
    "print(y.requires_grad)\n",
    "\n",
    "torch.set_grad_enabled(True)\n",
    "print(y.requires_grad)\n",
    "y = x * 2\n",
    "print(y.requires_grad)"
   ]
  },
  {
   "cell_type": "code",
   "execution_count": 45,
   "metadata": {},
   "outputs": [
    {
     "name": "stdout",
     "output_type": "stream",
     "text": [
      "tensor([[1., 1.],\n",
      "        [1., 1.]], requires_grad=True) None\n",
      "<AddBackward0 object at 0x0000013B07DB5540>\n",
      "(tensor([[1., 1.],\n",
      "        [1., 1.]], requires_grad=True), None)\n"
     ]
    }
   ],
   "source": [
    "# Variable对象的grad_fn属性\n",
    "import torch\n",
    "from torch.autograd import Variable\n",
    "\n",
    "x = Variable(torch.ones(2, 2), requires_grad=True)\n",
    "print(x, x.grad_fn)\n",
    "\n",
    "m = x + 2\n",
    "print(m.grad_fn)\n",
    "print(m.grad_fn(x)) # 求导成功"
   ]
  },
  {
   "cell_type": "code",
   "execution_count": 48,
   "metadata": {},
   "outputs": [
    {
     "name": "stdout",
     "output_type": "stream",
     "text": [
      "True\n",
      "False\n",
      "True\n"
     ]
    }
   ],
   "source": [
    "# Variable对象 的 is_leaf 属性\n",
    "import torch\n",
    "from torch.autograd import Variable\n",
    "\n",
    "x = Variable(torch.ones(2, 2), requires_grad=True)\n",
    "print(x.is_leaf)\n",
    "m = x + 2\n",
    "print(m.is_leaf)\n",
    "print(m.requires_grad)"
   ]
  },
  {
   "cell_type": "code",
   "execution_count": 49,
   "metadata": {},
   "outputs": [
    {
     "name": "stdout",
     "output_type": "stream",
     "text": [
      "tensor(3., grad_fn=<MeanBackward0>) tensor([[0.2500, 0.2500],\n",
      "        [0.2500, 0.2500]])\n"
     ]
    }
   ],
   "source": [
    "# backward() 自动求导\n",
    "import torch\n",
    "from torch.autograd import Variable\n",
    "\n",
    "x = Variable(torch.ones(2, 2), requires_grad=True)\n",
    "m = x + 2\n",
    "f = m.mean() # 得到一个标量\n",
    "f.backward()\n",
    "print(f, x.grad)"
   ]
  },
  {
   "cell_type": "code",
   "execution_count": 32,
   "metadata": {},
   "outputs": [
    {
     "name": "stdout",
     "output_type": "stream",
     "text": [
      "tensor([-0.8250, -0.2646])\n",
      "tensor([0.3047, 0.4342])\n",
      "tensor([-1.1884, -0.8342])\n",
      "tensor([-0.6778, -0.2586])\n",
      "tensor([0., 0.])\n"
     ]
    }
   ],
   "source": [
    "# 激活函数\n",
    "import torch\n",
    "\n",
    "input = torch.autograd.Variable(torch.randn(2))\n",
    "print(input)\n",
    "print(nn.Sigmoid()(input))\n",
    "print(nn.LogSigmoid()(input))\n",
    "\n",
    "print(torch.tanh(input, out=None))\n",
    "\n",
    "print(torch.relu(input))\n",
    "# print(torch.nn.relu(input, inplace=False))"
   ]
  },
  {
   "cell_type": "code",
   "execution_count": 41,
   "metadata": {},
   "outputs": [
    {
     "name": "stdout",
     "output_type": "stream",
     "text": [
      "tensor(2.)\n",
      "tensor(4.)\n",
      "tensor(-0.)\n"
     ]
    }
   ],
   "source": [
    "## nn模块中的损失函数\n",
    "import torch\n",
    "\n",
    "pre = torch.Tensor([1])\n",
    "label = torch.Tensor([-1])\n",
    "\n",
    "loss1 = torch.nn.L1Loss()(pre, label)\n",
    "print(loss1)\n",
    "\n",
    "loss2 = torch.nn.MSELoss()(pre, label)\n",
    "print(loss2)\n",
    "\n",
    "loss3 = torch.nn.CrossEntropyLoss()(pre, label)\n",
    "print(loss3)"
   ]
  },
  {
   "cell_type": "code",
   "execution_count": 43,
   "metadata": {},
   "outputs": [],
   "source": [
    "# 优化器模块\n",
    "import torch\n",
    "\n",
    "optimizer = torch.optim.Adam(model.parameters(), lr = 0.01)"
   ]
  }
 ],
 "metadata": {
  "kernelspec": {
   "display_name": "pytorch",
   "language": "python",
   "name": "python3"
  },
  "language_info": {
   "codemirror_mode": {
    "name": "ipython",
    "version": 3
   },
   "file_extension": ".py",
   "mimetype": "text/x-python",
   "name": "python",
   "nbconvert_exporter": "python",
   "pygments_lexer": "ipython3",
   "version": "3.12.4"
  }
 },
 "nbformat": 4,
 "nbformat_minor": 2
}
